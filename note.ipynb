{
 "cells": [
  {
   "cell_type": "code",
   "execution_count": 31,
   "metadata": {
    "ExecuteTime": {
     "end_time": "2023-12-19T05:41:22.484051Z",
     "start_time": "2023-12-19T05:41:22.473227Z"
    }
   },
   "outputs": [],
   "source": [
    "import pandas as pd\n",
    "import matplotlib.pyplot as plt\n",
    "from typing import List\n",
    "from collections import Counter\n",
    "import re\n",
    "from pymorphy3 import MorphAnalyzer\n",
    "from collections import defaultdict\n",
    "import nltk\n",
    "from nltk.corpus import stopwords"
   ]
  },
  {
   "cell_type": "code",
   "execution_count": 32,
   "metadata": {
    "ExecuteTime": {
     "end_time": "2023-12-19T05:41:22.666460Z",
     "start_time": "2023-12-19T05:41:22.482160Z"
    }
   },
   "outputs": [
    {
     "name": "stderr",
     "output_type": "stream",
     "text": [
      "[nltk_data] Error loading stopwords: <urlopen error [SSL:\n",
      "[nltk_data]     CERTIFICATE_VERIFY_FAILED] certificate verify failed:\n",
      "[nltk_data]     unable to get local issuer certificate (_ssl.c:1006)>\n"
     ]
    }
   ],
   "source": [
    "nltk.download('stopwords')\n",
    "stopwords_ru = set(stopwords.words('russian'))\n",
    "patterns = \"[«»A-Za-z0-9!#$%&'()*+,./:;<=>?@[\\]^_`{|}~—\\\"\\-]+\"\n",
    "morph = MorphAnalyzer()\n",
    "path = r\"/Users/wardonne/Desktop/Lab_python/PP_3_Lab/annotation1.csv\""
   ]
  },
  {
   "cell_type": "code",
   "execution_count": 33,
   "metadata": {
    "ExecuteTime": {
     "end_time": "2023-12-19T05:41:22.771400Z",
     "start_time": "2023-12-19T05:41:22.675115Z"
    }
   },
   "outputs": [],
   "source": [
    "\"\"\"\n",
    "Чтение данных из CSV-файла и преобразование их в DataFrame.\n",
    "\n",
    "Args:\n",
    "- path (str): Путь к CSV-файлу.\n",
    "\n",
    "Returns:\n",
    "pd.core.frame.DataFrame: DataFrame с колонками 'review' и 'rating'.\n",
    "\"\"\"\n",
    "df_csv = pd.read_csv(path)\n",
    "texts = []\n",
    "for absolute_path, rating in zip(df_csv['absolute_path'], df_csv['rating']):\n",
    "    with open(absolute_path, 'r', encoding='utf-8') as file:\n",
    "        text = file.read()\n",
    "        texts.append((text, rating))\n",
    "\n",
    "df = pd.DataFrame(texts, columns=['review', 'rating'])"
   ]
  },
  {
   "cell_type": "code",
   "execution_count": 34,
   "metadata": {
    "ExecuteTime": {
     "end_time": "2023-12-19T05:41:22.773109Z",
     "start_time": "2023-12-19T05:41:22.761656Z"
    }
   },
   "outputs": [
    {
     "name": "stdout",
     "output_type": "stream",
     "text": [
      "                                                review  rating\n",
      "0    Марья Моревна. Комикс. Том 1\\nИтак, пришла ко ...       1\n",
      "1    Академия адептов, колдунов и магов. Испытание ...       1\n",
      "2    Арена страсти\\nНе знаю, каковы другие книги эт...       1\n",
      "3    Тачдаун\\nАхахаха, знаете, если мне не нравится...       1\n",
      "4    Ген хищника\\nСейчас модно писать «5 причин про...       1\n",
      "..                                                 ...     ...\n",
      "495  Первые чувства. Искры снега\\nНики Сью \"Искры с...       5\n",
      "496  Именинница\\nВремя-одно из препятствий, которое...       5\n",
      "497  Принц льда и крови\\nДанная книга зацепила свое...       5\n",
      "498  Любовь на десерт\\nКогда у тебя кипит, и ты дол...       5\n",
      "499  Братья и сестры. Как помочь вашим детям жить д...       5\n",
      "\n",
      "[500 rows x 2 columns]\n"
     ]
    }
   ],
   "source": [
    "print(df)"
   ]
  },
  {
   "cell_type": "code",
   "execution_count": 35,
   "metadata": {
    "ExecuteTime": {
     "end_time": "2023-12-19T05:41:22.853292Z",
     "start_time": "2023-12-19T05:41:22.775368Z"
    }
   },
   "outputs": [
    {
     "name": "stdout",
     "output_type": "stream",
     "text": [
      "review    0\n",
      "rating    0\n",
      "dtype: int64\n"
     ]
    }
   ],
   "source": [
    "\"\"\"\n",
    "Удаление строк с отсутствующими значениями.\n",
    "\n",
    "Args:\n",
    "- df (pd.core.frame.DataFrame): Исходный DataFrame.\n",
    "\n",
    "Returns:\n",
    "pd.core.frame.DataFrame: DataFrame без отсутствующих значений.\n",
    "\"\"\"\n",
    "print(df.isnull().sum())\n",
    "df.dropna()"
   ]
  },
  {
   "cell_type": "code",
   "execution_count": 36,
   "metadata": {
    "ExecuteTime": {
     "end_time": "2023-12-19T05:41:22.854739Z",
     "start_time": "2023-12-19T05:41:22.811349Z"
    }
   },
   "outputs": [
    {
     "name": "stdout",
     "output_type": "stream",
     "text": [
      "                                              review  rating  count_word\n",
      "0  Марья Моревна. Комикс. Том 1\\nИтак, пришла ко ...       1         603\n",
      "1  Академия адептов, колдунов и магов. Испытание ...       1         266\n",
      "2  Арена страсти\\nНе знаю, каковы другие книги эт...       1          93\n",
      "3  Тачдаун\\nАхахаха, знаете, если мне не нравится...       1         371\n",
      "4  Ген хищника\\nСейчас модно писать «5 причин про...       1         378\n"
     ]
    }
   ],
   "source": [
    "\"\"\"\n",
    "Добавление колонки 'count_word' с количеством слов в каждом отзыве.\n",
    "\n",
    "Args:\n",
    "- df (pd.core.frame.DataFrame): Исходный DataFrame.\n",
    "\n",
    "Returns:\n",
    "pd.core.frame.DataFrame: DataFrame с новой колонкой 'count_word'.\n",
    "\"\"\"\n",
    "df['count_word'] = df['review'].apply(lambda word: len(word.split()))\n",
    "print(df.head())"
   ]
  },
  {
   "cell_type": "code",
   "execution_count": 37,
   "metadata": {
    "ExecuteTime": {
     "end_time": "2023-12-19T05:41:22.855300Z",
     "start_time": "2023-12-19T05:41:22.816552Z"
    }
   },
   "outputs": [
    {
     "name": "stdout",
     "output_type": "stream",
     "text": [
      "          rating   count_word\n",
      "count  500.00000   500.000000\n",
      "mean     3.00000   252.214000\n",
      "std      1.41563   237.136204\n",
      "min      1.00000     4.000000\n",
      "25%      2.00000   116.000000\n",
      "50%      3.00000   192.500000\n",
      "75%      4.00000   310.000000\n",
      "max      5.00000  2141.000000\n"
     ]
    }
   ],
   "source": [
    "print(df.describe())"
   ]
  },
  {
   "cell_type": "code",
   "execution_count": 38,
   "metadata": {
    "ExecuteTime": {
     "end_time": "2023-12-19T05:41:22.855618Z",
     "start_time": "2023-12-19T05:41:22.829020Z"
    }
   },
   "outputs": [],
   "source": [
    "def filter_by_words(df: pd.core.frame.DataFrame, count_words: int) -> pd.core.frame.DataFrame:\n",
    "    \"\"\"\n",
    "    Фильтрация DataFrame по количеству слов в отзыве.\n",
    "\n",
    "    Args:\n",
    "    - df (pd.core.frame.DataFrame): Исходный DataFrame.\n",
    "    - count_words (int): Пороговое значение количества слов.\n",
    "\n",
    "    Returns:\n",
    "    pd.core.frame.DataFrame: Отфильтрованный DataFrame.\n",
    "    \"\"\"\n",
    "    return df[df.count_word >= count_words]"
   ]
  },
  {
   "cell_type": "code",
   "execution_count": 39,
   "metadata": {
    "ExecuteTime": {
     "end_time": "2023-12-19T05:41:22.883428Z",
     "start_time": "2023-12-19T05:41:22.833171Z"
    }
   },
   "outputs": [
    {
     "name": "stdout",
     "output_type": "stream",
     "text": [
      "                                               review  rating  count_word\n",
      "0   Марья Моревна. Комикс. Том 1\\nИтак, пришла ко ...       1         603\n",
      "1   Академия адептов, колдунов и магов. Испытание ...       1         266\n",
      "2   Арена страсти\\nНе знаю, каковы другие книги эт...       1          93\n",
      "3   Тачдаун\\nАхахаха, знаете, если мне не нравится...       1         371\n",
      "4   Ген хищника\\nСейчас модно писать «5 причин про...       1         378\n",
      "..                                                ...     ...         ...\n",
      "95  Икигай. Японские секреты долгой и счастливой ж...       1          45\n",
      "96  Марта и полтора убийства\\nна редкость нелепая ...       1          54\n",
      "97  Обнимашки с мурозданием. Теплые сказки о счаст...       1          72\n",
      "98  Девушка из Уидоу-Хиллз\\nсерьёзно? люди 20 лет ...       1          78\n",
      "99  Карма\\nИз любопытства купила эту книгу хваленн...       1         189\n",
      "\n",
      "[100 rows x 3 columns]\n"
     ]
    }
   ],
   "source": [
    "def filter_by_rating(df: pd.core.frame.DataFrame, count_rating: int) -> pd.core.frame.DataFrame:\n",
    "    \"\"\"\n",
    "    Фильтрация DataFrame по рейтингу.\n",
    "\n",
    "    Args:\n",
    "    - df (pd.core.frame.DataFrame): Исходный DataFrame.\n",
    "    - count_rating (int): Значение рейтинга для фильтрации.\n",
    "\n",
    "    Returns:\n",
    "    pd.core.frame.DataFrame: Отфильтрованный DataFrame.\n",
    "    \"\"\"\n",
    "    return df[df.rating == count_rating]\n",
    "\n",
    "print(filter_by_rating(df, 1))"
   ]
  },
  {
   "cell_type": "code",
   "execution_count": 40,
   "metadata": {
    "ExecuteTime": {
     "end_time": "2023-12-19T05:41:22.884933Z",
     "start_time": "2023-12-19T05:41:22.840635Z"
    }
   },
   "outputs": [
    {
     "name": "stdout",
     "output_type": "stream",
     "text": [
      "       count_word              \n",
      "              min   max    mean\n",
      "rating                         \n",
      "1              10   820  218.23\n",
      "2               8   832  212.23\n",
      "3              39  2141  270.98\n",
      "4               4  1621  267.96\n",
      "5              29  1871  291.67\n"
     ]
    }
   ],
   "source": [
    "a = df.groupby('rating').agg({'count_word': ['min', 'max', 'mean']})\n",
    "print(a)"
   ]
  },
  {
   "cell_type": "code",
   "execution_count": 41,
   "metadata": {
    "ExecuteTime": {
     "end_time": "2023-12-19T05:41:22.885417Z",
     "start_time": "2023-12-19T05:41:22.849307Z"
    }
   },
   "outputs": [],
   "source": [
    "def lemmatize(review: str) -> List[str]:\n",
    "    \"\"\"\n",
    "    Лемматизация текста.\n",
    "\n",
    "    Args:\n",
    "    - review (str): Исходный текст.\n",
    "\n",
    "    Returns:\n",
    "    List[str]: Список лемм.\n",
    "    \"\"\"\n",
    "    review = re.sub(patterns, ' ', review)\n",
    "    tokens = review.lower().split()\n",
    "    preprocessed_text = []\n",
    "    for token in tokens:\n",
    "        lemma = morph.parse(token)[0].normal_form\n",
    "        if lemma not in stopwords_ru:\n",
    "            preprocessed_text.append(lemma)\n",
    "    return preprocessed_text\n",
    "\n",
    "def most_popular_words(df: pd.core.frame.DataFrame, rating: int) -> List[tuple[str, int]]:\n",
    "    \"\"\"\n",
    "    Определение самых популярных слов для заданного рейтинга.\n",
    "\n",
    "    Args:\n",
    "    - df (pd.core.frame.DataFrame): Исходный DataFrame.\n",
    "    - rating (int): Значение рейтинга.\n",
    "\n",
    "    Returns:\n",
    "    List[tuple[str, int]]: Список кортежей (слово, частота).\n",
    "    \"\"\"\n",
    "    data = df[df['rating'] == rating]['review'].apply(lemmatize)\n",
    "    words = Counter()\n",
    "    for txt in data:\n",
    "        words.update(txt)\n",
    "    return words.most_common(10)"
   ]
  },
  {
   "cell_type": "code",
   "execution_count": 42,
   "metadata": {
    "ExecuteTime": {
     "end_time": "2023-12-19T05:41:22.885811Z",
     "start_time": "2023-12-19T05:41:22.852683Z"
    }
   },
   "outputs": [],
   "source": [
    "def graph_build(hist_list: List[tuple[str, int]]) -> None:\n",
    "    \"\"\"\n",
    "    Построение гистограммы для списка слов.\n",
    "\n",
    "    Args:\n",
    "    - hist_list (List[tuple[str, int]]): Список кортежей (слово, частота).\n",
    "\n",
    "    Returns:\n",
    "    None\n",
    "    \"\"\"\n",
    "    words = []\n",
    "    count = []\n",
    "    for i in range(len(hist_list)):\n",
    "        words.append(hist_list[i][0])\n",
    "        count.append(hist_list[i][1])\n",
    "\n",
    "    fig, ax = plt.subplots()\n",
    "\n",
    "    ax.bar(words, count)\n",
    "    ax.set_ylabel('Количество')\n",
    "    ax.set_title('Гистограмма самых популярных слов')\n",
    "    plt.show()"
   ]
  },
  {
   "cell_type": "code",
   "execution_count": 43,
   "metadata": {
    "ExecuteTime": {
     "end_time": "2023-12-19T05:41:25.333454Z",
     "start_time": "2023-12-19T05:41:22.856111Z"
    }
   },
   "outputs": [
    {
     "data": {
      "text/plain": "<Figure size 640x480 with 1 Axes>",
      "image/png": "[encoded data removed]"
     },
     "metadata": {},
     "output_type": "display_data"
    }
   ],
   "source": [
    "graph_build(most_popular_words(df, 5))"
   ]
  }
 ],
 "metadata": {
  "kernelspec": {
   "display_name": "base",
   "language": "python",
   "name": "python3"
  },
  "language_info": {
   "codemirror_mode": {
    "name": "ipython",
    "version": 3
   },
   "file_extension": ".py",
   "mimetype": "text/x-python",
   "name": "python",
   "nbconvert_exporter": "python",
   "pygments_lexer": "ipython3",
   "version": "3.11.4"
  }
 },
 "nbformat": 4,
 "nbformat_minor": 2
}
